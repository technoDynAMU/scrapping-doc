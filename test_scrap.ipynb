{
 "cells": [
  {
   "cell_type": "code",
   "execution_count": 5,
   "metadata": {},
   "outputs": [],
   "source": [
    "import bs4 as bs\n",
    "import urllib.request\n",
    "import pandas as pd\n",
    "\n",
    "list_nom = list()\n",
    "\n",
    "for i in range (397):\n",
    "    source = urllib.request.urlopen(\"https://college-doctoral.univ-amu.fr/fr/annuaire-docteurs?search_api_views_fulltext=&page=\"+str(i)).read()\n",
    "\n",
    "    soup = bs.BeautifulSoup(source,'lxml')\n",
    "    for div in soup.find_all(class_=\"inscrit--teaser\"):\n",
    "        if div.find(class_=\"inscrit__tab\").find(class_=\"inscrit__mail\") != None:\n",
    "            nom = div.find(class_=\"inscrit__nom-complet\").text[1:-1].replace('\\n', ' ')\n",
    "            ecole = div.find(class_=\"inscrit__ecole\").text.split(\": \")[1].split(\"  \")[0]\n",
    "            mail = div.find(class_=\"inscrit__tab\").find(class_=\"inscrit__mail\").find('a', href=True)['href'].split(\":\")[1]\n",
    "            list_nom.append({\"nom\" : nom, \"ecole\" : ecole, \"mail\" : mail})\n",
    "            \n",
    "            \n",
    "df = pd.DataFrame.from_dict(list_nom)\n",
    "\n",
    "df.to_excel('annuaire.xlsx')"
   ]
  },
  {
   "cell_type": "code",
   "execution_count": 30,
   "metadata": {},
   "outputs": [],
   "source": [
    "df = pd.DataFrame.from_dict(list_nom)"
   ]
  },
  {
   "cell_type": "code",
   "execution_count": 31,
   "metadata": {},
   "outputs": [],
   "source": [
    "ecole_doctorale = {\n",
    "    \"Sciences de la Vie et de la Santé\" : \"ED 062\",\n",
    "    \"Sciences Juridiques et Politiques\" : \"ED 067\",\n",
    "    \"Mathématiques et Informatique de Marseille\" : \"ED 184\",\n",
    "    \"SCIENCES CHIMIQUES - Marseille\" : \"ED 250\",\n",
    "    \"Sciences de l'Environnement\" : \"ED 251\",\n",
    "    \"Physique et Sciences de la Matière\" : \"ED 352\",\n",
    "    \"SCIENCES POUR L'INGENIEUR \" : \"ED 353\",\n",
    "    \"Langues Lettres et Arts\" : \"ED 354\",\n",
    "    \"ESPACES, CULTURES, SOCIETES - Aix Marseille\" : \"ED 355\",\n",
    "    \"COGNITION, LANGAGE, EDUCATION\" : \"ED 356\",\n",
    "    \"Sciences Economiques et de Gestion d' Aix - Marseille\" : \"ED 372\",\n",
    "    \"Sciences du Mouvement Humain\" : \"ED 463\"\n",
    "}"
   ]
  },
  {
   "cell_type": "code",
   "execution_count": 32,
   "metadata": {},
   "outputs": [],
   "source": [
    "df[\"code ecole\"] = df[\"ecole\"].map(ecole_doctorale)"
   ]
  },
  {
   "cell_type": "code",
   "execution_count": 36,
   "metadata": {},
   "outputs": [],
   "source": [
    "df.to_csv(\"annuaire.csv\", index=False)"
   ]
  },
  {
   "cell_type": "code",
   "execution_count": 35,
   "metadata": {},
   "outputs": [
    {
     "data": {
      "text/plain": [
       "Sciences de la Vie et de la Santé                        397\n",
       "Physique et Sciences de la Matière                       193\n",
       "ESPACES, CULTURES, SOCIETES - Aix Marseille              169\n",
       "Sciences Juridiques et Politiques                        144\n",
       "COGNITION, LANGAGE, EDUCATION                            131\n",
       "Sciences de l'Environnement                              127\n",
       "SCIENCES POUR L'INGENIEUR                                105\n",
       "Sciences Economiques et de Gestion d' Aix - Marseille     94\n",
       "Sciences du Mouvement Humain                              88\n",
       "Mathématiques et Informatique de Marseille                87\n",
       "Langues Lettres et Arts                                   83\n",
       "SCIENCES CHIMIQUES - Marseille                            76\n",
       "Name: ecole, dtype: int64"
      ]
     },
     "execution_count": 35,
     "metadata": {},
     "output_type": "execute_result"
    }
   ],
   "source": [
    "df[\"ecole\"].value_counts()"
   ]
  }
 ],
 "metadata": {
  "kernelspec": {
   "display_name": "base",
   "language": "python",
   "name": "python3"
  },
  "language_info": {
   "codemirror_mode": {
    "name": "ipython",
    "version": 3
   },
   "file_extension": ".py",
   "mimetype": "text/x-python",
   "name": "python",
   "nbconvert_exporter": "python",
   "pygments_lexer": "ipython3",
   "version": "3.8.13"
  },
  "orig_nbformat": 4
 },
 "nbformat": 4,
 "nbformat_minor": 2
}
